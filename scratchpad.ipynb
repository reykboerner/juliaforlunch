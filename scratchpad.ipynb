{
 "cells": [
  {
   "cell_type": "markdown",
   "id": "39215b97",
   "metadata": {},
   "source": [
    "# Julia for Lunch\n",
    "\n",
    "Reyk Börner <br>\n",
    "IMAU, 18 September 2025"
   ]
  },
  {
   "cell_type": "code",
   "execution_count": 19,
   "id": "47fd029d",
   "metadata": {},
   "outputs": [
    {
     "name": "stderr",
     "output_type": "stream",
     "text": [
      "\u001b[32m\u001b[1m  Activating\u001b[22m\u001b[39m project at `~/Library/CloudStorage/OneDrive-UniversiteitUtrecht/Desktop/JuliaForLunch`\n"
     ]
    },
    {
     "name": "stdout",
     "output_type": "stream",
     "text": [
      "\u001b[32m\u001b[1mStatus\u001b[22m\u001b[39m `~/Library/CloudStorage/OneDrive-UniversiteitUtrecht/Desktop/JuliaForLunch/Project.toml`\n",
      "  \u001b[90m[608a59af] \u001b[39mChaosTools v3.5.0\n",
      "  \u001b[90m[251e6cd3] \u001b[39mCriticalTransitions v0.6.1 `https://github.com/juliadynamics/CriticalTransitions.jl.git#main`\n",
      "  \u001b[90m[6e36e845] \u001b[39mDynamicalSystemsBase v3.15.0\n",
      "  \u001b[90m[1dea7af3] \u001b[39mOrdinaryDiffEq v6.102.1\n",
      "  \u001b[90m[14b8a8f1] \u001b[39mPkgTemplates v0.7.56\n",
      "  \u001b[90m[d330b81b] \u001b[39mPyPlot v2.11.6\n",
      "  \u001b[90m[789caeaf] \u001b[39mStochasticDiffEq v6.82.0\n",
      "  \u001b[90m[37e2e46d] \u001b[39mLinearAlgebra v1.11.0\n"
     ]
    }
   ],
   "source": [
    "using Pkg\n",
    "Pkg.activate(\".\")\n",
    "Pkg.status()"
   ]
  },
  {
   "cell_type": "markdown",
   "id": "30c24cfd",
   "metadata": {},
   "source": [
    "## Multiple dispatch"
   ]
  },
  {
   "cell_type": "code",
   "execution_count": 11,
   "id": "20aa4b19",
   "metadata": {},
   "outputs": [],
   "source": [
    "struct MyType end"
   ]
  },
  {
   "cell_type": "code",
   "execution_count": 18,
   "id": "152cf86b",
   "metadata": {},
   "outputs": [
    {
     "name": "stdout",
     "output_type": "stream",
     "text": [
      "9\n",
      "It's my type\n"
     ]
    }
   ],
   "source": [
    "f(x) = x^2\n",
    "f(x::MyType) = \"It's my type\"\n",
    "\n",
    "x = 3\n",
    "y = MyType()\n",
    "\n",
    "println(f(x))\n",
    "println(f(y))\n"
   ]
  },
  {
   "cell_type": "markdown",
   "id": "42e06161",
   "metadata": {},
   "source": []
  }
 ],
 "metadata": {
  "kernelspec": {
   "display_name": "Julia 1.11.6",
   "language": "julia",
   "name": "julia-1.11"
  },
  "language_info": {
   "file_extension": ".jl",
   "mimetype": "application/julia",
   "name": "julia",
   "version": "1.11.6"
  }
 },
 "nbformat": 4,
 "nbformat_minor": 5
}
